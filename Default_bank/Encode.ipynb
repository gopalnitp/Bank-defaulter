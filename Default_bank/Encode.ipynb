{
 "cells": [
  {
   "cell_type": "code",
   "execution_count": 108,
   "metadata": {},
   "outputs": [],
   "source": [
    "# coding: utf-8\n",
    "\n",
    "# In[10]:\n",
    "\n",
    "\n",
    "import pandas as pd\n",
    "from keras.models import Sequential\n",
    "from keras.layers import Activation,Dense\n",
    "from keras.utils import np_utils\n",
    "from sklearn.model_selection import train_test_split\n",
    "\n",
    "\n",
    "# In[11]:\n",
    "\n",
    "\n",
    "data=pd.read_csv(\"sport_vector.txt\",header=None)\n",
    "\n",
    "\n",
    "# In[14]:\n",
    "\n",
    "\n",
    "data=data.values\n",
    "\n",
    "\n",
    "\n",
    "\n",
    "from sklearn.preprocessing import MinMaxScaler\n",
    "scaler = MinMaxScaler(feature_range=(0, 1))\n",
    "scaler = scaler.fit(data)\n",
    "X_train = scaler.transform(data)\n"
   ]
  },
  {
   "cell_type": "code",
   "execution_count": 109,
   "metadata": {},
   "outputs": [
    {
     "data": {
      "text/plain": [
       "(11768, 20)"
      ]
     },
     "execution_count": 109,
     "metadata": {},
     "output_type": "execute_result"
    }
   ],
   "source": [
    "X_train.shape"
   ]
  },
  {
   "cell_type": "code",
   "execution_count": null,
   "metadata": {},
   "outputs": [],
   "source": [
    "data=pd.read_csv(\"sport_vector.txt\",header=None)"
   ]
  },
  {
   "cell_type": "code",
   "execution_count": 110,
   "metadata": {},
   "outputs": [
    {
     "name": "stdout",
     "output_type": "stream",
     "text": [
      "_________________________________________________________________\n",
      "Layer (type)                 Output Shape              Param #   \n",
      "=================================================================\n",
      "dense_33 (Dense)             (None, 18)                378       \n",
      "_________________________________________________________________\n",
      "activation_15 (Activation)   (None, 18)                0         \n",
      "_________________________________________________________________\n",
      "dense_34 (Dense)             (None, 16)                304       \n",
      "=================================================================\n",
      "Total params: 682\n",
      "Trainable params: 682\n",
      "Non-trainable params: 0\n",
      "_________________________________________________________________\n"
     ]
    }
   ],
   "source": [
    "Encoder=Sequential()\n",
    "Encoder.add(Dense(18,input_shape=(20,)))\n",
    "Encoder.add(Activation(\"relu\"))\n",
    "Encoder.add(Dense(16,activation=\"relu\"))\n",
    "\n",
    "Encoder.summary()"
   ]
  },
  {
   "cell_type": "code",
   "execution_count": 111,
   "metadata": {},
   "outputs": [
    {
     "name": "stdout",
     "output_type": "stream",
     "text": [
      "_________________________________________________________________\n",
      "Layer (type)                 Output Shape              Param #   \n",
      "=================================================================\n",
      "dense_35 (Dense)             (None, 18)                306       \n",
      "_________________________________________________________________\n",
      "activation_16 (Activation)   (None, 18)                0         \n",
      "_________________________________________________________________\n",
      "dense_36 (Dense)             (None, 20)                380       \n",
      "=================================================================\n",
      "Total params: 686\n",
      "Trainable params: 686\n",
      "Non-trainable params: 0\n",
      "_________________________________________________________________\n"
     ]
    }
   ],
   "source": [
    "Decoder=Sequential()\n",
    "Decoder.add(Dense(18,input_shape=(16,)))\n",
    "Decoder.add(Activation(\"relu\"))\n",
    "Decoder.add(Dense(20,activation=\"relu\"))\n",
    "Decoder.summary()"
   ]
  },
  {
   "cell_type": "code",
   "execution_count": 112,
   "metadata": {},
   "outputs": [
    {
     "name": "stdout",
     "output_type": "stream",
     "text": [
      "_________________________________________________________________\n",
      "Layer (type)                 Output Shape              Param #   \n",
      "=================================================================\n",
      "sequential_24 (Sequential)   (None, 16)                682       \n",
      "_________________________________________________________________\n",
      "sequential_25 (Sequential)   (None, 20)                686       \n",
      "=================================================================\n",
      "Total params: 1,368\n",
      "Trainable params: 1,368\n",
      "Non-trainable params: 0\n",
      "_________________________________________________________________\n"
     ]
    }
   ],
   "source": [
    "final_model=Sequential([Encoder,Decoder])\n",
    "final_model.summary()"
   ]
  },
  {
   "cell_type": "code",
   "execution_count": 115,
   "metadata": {},
   "outputs": [],
   "source": [
    "final_model.compile(optimizer='rmsprop', loss='MSE', metrics=['accuracy'])"
   ]
  },
  {
   "cell_type": "code",
   "execution_count": 116,
   "metadata": {},
   "outputs": [
    {
     "name": "stdout",
     "output_type": "stream",
     "text": [
      "Epoch 1/30\n",
      "11768/11768 [==============================] - 2s 162us/step - loss: 0.0781 - acc: 0.4398\n",
      "Epoch 2/30\n",
      "11768/11768 [==============================] - 2s 139us/step - loss: 0.0781 - acc: 0.4389\n",
      "Epoch 3/30\n",
      "11768/11768 [==============================] - 2s 141us/step - loss: 0.0781 - acc: 0.4375\n",
      "Epoch 4/30\n",
      "11768/11768 [==============================] - 2s 146us/step - loss: 0.0780 - acc: 0.4412\n",
      "Epoch 5/30\n",
      "11768/11768 [==============================] - 2s 142us/step - loss: 0.0780 - acc: 0.4373\n",
      "Epoch 6/30\n",
      "11768/11768 [==============================] - 2s 141us/step - loss: 0.0780 - acc: 0.4385\n",
      "Epoch 7/30\n",
      "11768/11768 [==============================] - 2s 143us/step - loss: 0.0780 - acc: 0.4376\n",
      "Epoch 8/30\n",
      "11768/11768 [==============================] - 2s 142us/step - loss: 0.0780 - acc: 0.4400\n",
      "Epoch 9/30\n",
      "11768/11768 [==============================] - 2s 145us/step - loss: 0.0780 - acc: 0.4347\n",
      "Epoch 10/30\n",
      "11768/11768 [==============================] - 2s 143us/step - loss: 0.0780 - acc: 0.4348\n",
      "Epoch 11/30\n",
      "11768/11768 [==============================] - 2s 147us/step - loss: 0.0780 - acc: 0.4348\n",
      "Epoch 12/30\n",
      "11768/11768 [==============================] - 2s 162us/step - loss: 0.0780 - acc: 0.4372\n",
      "Epoch 13/30\n",
      "11768/11768 [==============================] - 2s 149us/step - loss: 0.0780 - acc: 0.4369\n",
      "Epoch 14/30\n",
      "11768/11768 [==============================] - 2s 159us/step - loss: 0.0780 - acc: 0.4367\n",
      "Epoch 15/30\n",
      "11768/11768 [==============================] - 2s 172us/step - loss: 0.0780 - acc: 0.4370\n",
      "Epoch 16/30\n",
      "11768/11768 [==============================] - 2s 147us/step - loss: 0.0780 - acc: 0.4369\n",
      "Epoch 17/30\n",
      "11768/11768 [==============================] - 2s 149us/step - loss: 0.0780 - acc: 0.4369\n",
      "Epoch 18/30\n",
      "11768/11768 [==============================] - 2s 150us/step - loss: 0.0780 - acc: 0.4338\n",
      "Epoch 19/30\n",
      "11768/11768 [==============================] - 2s 172us/step - loss: 0.0780 - acc: 0.4355\n",
      "Epoch 20/30\n",
      "11768/11768 [==============================] - 2s 194us/step - loss: 0.0780 - acc: 0.4363\n",
      "Epoch 21/30\n",
      "11768/11768 [==============================] - 2s 199us/step - loss: 0.0780 - acc: 0.4368\n",
      "Epoch 22/30\n",
      "11768/11768 [==============================] - 2s 176us/step - loss: 0.0780 - acc: 0.4335\n",
      "Epoch 23/30\n",
      "11768/11768 [==============================] - 2s 145us/step - loss: 0.0780 - acc: 0.4343\n",
      "Epoch 24/30\n",
      "11768/11768 [==============================] - 2s 141us/step - loss: 0.0780 - acc: 0.4315\n",
      "Epoch 25/30\n",
      "11768/11768 [==============================] - 2s 145us/step - loss: 0.0780 - acc: 0.4330\n",
      "Epoch 26/30\n",
      "11768/11768 [==============================] - 2s 144us/step - loss: 0.0780 - acc: 0.4347\n",
      "Epoch 27/30\n",
      "11768/11768 [==============================] - 2s 144us/step - loss: 0.0780 - acc: 0.4365\n",
      "Epoch 28/30\n",
      "11768/11768 [==============================] - 2s 144us/step - loss: 0.0780 - acc: 0.4347\n",
      "Epoch 29/30\n",
      "11768/11768 [==============================] - 2s 144us/step - loss: 0.0780 - acc: 0.4314\n",
      "Epoch 30/30\n",
      "11768/11768 [==============================] - 2s 144us/step - loss: 0.0780 - acc: 0.4336\n"
     ]
    },
    {
     "data": {
      "text/plain": [
       "<keras.callbacks.History at 0x7f7fb1d8b650>"
      ]
     },
     "execution_count": 116,
     "metadata": {},
     "output_type": "execute_result"
    }
   ],
   "source": [
    "final_model.fit(X_train,X_train,epochs=30,batch_size=8,class_weight=\"balanced\")"
   ]
  },
  {
   "cell_type": "code",
   "execution_count": 98,
   "metadata": {},
   "outputs": [],
   "source": [
    "X_Tr=Encoder.predict(X_train)\n",
    "X_te=Encoder.predict(X_test)"
   ]
  },
  {
   "cell_type": "code",
   "execution_count": 99,
   "metadata": {},
   "outputs": [
    {
     "data": {
      "text/plain": [
       "SVC(C=1.0, cache_size=200, class_weight='balanced', coef0=0.0,\n",
       "  decision_function_shape='ovr', degree=3, gamma='auto_deprecated',\n",
       "  kernel='linear', max_iter=-1, probability=False, random_state=None,\n",
       "  shrinking=True, tol=0.001, verbose=False)"
      ]
     },
     "execution_count": 99,
     "metadata": {},
     "output_type": "execute_result"
    }
   ],
   "source": [
    "from sklearn.svm import SVC\n",
    "from sklearn.metrics import accuracy_score\n",
    "from sklearn.metrics import classification_report, confusion_matrix  \n",
    "svclassifier=SVC(kernel='linear',class_weight='balanced')\n",
    "svclassifier.fit(X_Tr,y_train)"
   ]
  },
  {
   "cell_type": "code",
   "execution_count": 100,
   "metadata": {},
   "outputs": [
    {
     "data": {
      "text/plain": [
       "0.72091047040971168"
      ]
     },
     "execution_count": 100,
     "metadata": {},
     "output_type": "execute_result"
    }
   ],
   "source": [
    "svclassifier.score(X_Tr,y_train)"
   ]
  },
  {
   "cell_type": "code",
   "execution_count": 101,
   "metadata": {},
   "outputs": [
    {
     "data": {
      "text/plain": [
       "0.71595047341587759"
      ]
     },
     "execution_count": 101,
     "metadata": {},
     "output_type": "execute_result"
    }
   ],
   "source": [
    "svclassifier.score(X_te,y_test)"
   ]
  },
  {
   "cell_type": "code",
   "execution_count": 102,
   "metadata": {
    "scrolled": false
   },
   "outputs": [
    {
     "name": "stdout",
     "output_type": "stream",
     "text": [
      "              precision    recall  f1-score   support\n",
      "\n",
      "         0.0       0.72      0.95      0.82      5541\n",
      "         1.0       0.69      0.24      0.36      2697\n",
      "\n",
      "   micro avg       0.72      0.72      0.72      8238\n",
      "   macro avg       0.70      0.59      0.59      8238\n",
      "weighted avg       0.71      0.72      0.67      8238\n",
      "\n"
     ]
    }
   ],
   "source": [
    "yprd=svclassifier.predict(X_te)\n",
    "print classification_report(yprd,y_test)"
   ]
  },
  {
   "cell_type": "code",
   "execution_count": 103,
   "metadata": {},
   "outputs": [],
   "source": [
    "from sklearn.neighbors import KNeighborsClassifier"
   ]
  },
  {
   "cell_type": "code",
   "execution_count": 104,
   "metadata": {},
   "outputs": [
    {
     "data": {
      "text/plain": [
       "KNeighborsClassifier(algorithm='auto', leaf_size=30, metric='minkowski',\n",
       "           metric_params=None, n_jobs=None, n_neighbors=2, p=2,\n",
       "           weights='uniform')"
      ]
     },
     "execution_count": 104,
     "metadata": {},
     "output_type": "execute_result"
    }
   ],
   "source": [
    "nn=KNeighborsClassifier(2,weights=\"uniform\")\n",
    "nn.fit(X_Tr,y_train)"
   ]
  },
  {
   "cell_type": "code",
   "execution_count": 105,
   "metadata": {},
   "outputs": [
    {
     "name": "stderr",
     "output_type": "stream",
     "text": [
      "/usr/local/lib/python2.7/dist-packages/sklearn/externals/joblib/parallel.py:268: DeprecationWarning: check_pickle is deprecated in joblib 0.12 and will be removed in 0.13\n",
      "  ' removed in 0.13', DeprecationWarning)\n"
     ]
    },
    {
     "data": {
      "text/plain": [
       "0.88832240835154164"
      ]
     },
     "execution_count": 105,
     "metadata": {},
     "output_type": "execute_result"
    }
   ],
   "source": [
    "nn.score(X_te,y_test)"
   ]
  },
  {
   "cell_type": "code",
   "execution_count": 106,
   "metadata": {},
   "outputs": [
    {
     "name": "stderr",
     "output_type": "stream",
     "text": [
      "/usr/local/lib/python2.7/dist-packages/sklearn/externals/joblib/parallel.py:268: DeprecationWarning: check_pickle is deprecated in joblib 0.12 and will be removed in 0.13\n",
      "  ' removed in 0.13', DeprecationWarning)\n"
     ]
    }
   ],
   "source": [
    "y_prd=nn.predict(X_te)"
   ]
  },
  {
   "cell_type": "code",
   "execution_count": 107,
   "metadata": {},
   "outputs": [
    {
     "name": "stdout",
     "output_type": "stream",
     "text": [
      "              precision    recall  f1-score   support\n",
      "\n",
      "         0.0       0.98      0.90      0.94      7959\n",
      "         1.0       0.16      0.54      0.25       279\n",
      "\n",
      "   micro avg       0.89      0.89      0.89      8238\n",
      "   macro avg       0.57      0.72      0.59      8238\n",
      "weighted avg       0.95      0.89      0.92      8238\n",
      "\n"
     ]
    }
   ],
   "source": [
    "\n",
    "print classification_report(y_prd,y_test)"
   ]
  },
  {
   "cell_type": "code",
   "execution_count": null,
   "metadata": {},
   "outputs": [],
   "source": []
  },
  {
   "cell_type": "code",
   "execution_count": null,
   "metadata": {},
   "outputs": [],
   "source": []
  }
 ],
 "metadata": {
  "kernelspec": {
   "display_name": "Python 2",
   "language": "python",
   "name": "python2"
  },
  "language_info": {
   "codemirror_mode": {
    "name": "ipython",
    "version": 2
   },
   "file_extension": ".py",
   "mimetype": "text/x-python",
   "name": "python",
   "nbconvert_exporter": "python",
   "pygments_lexer": "ipython2",
   "version": "2.7.15rc1"
  }
 },
 "nbformat": 4,
 "nbformat_minor": 2
}
