{
 "cells": [
  {
   "cell_type": "code",
   "execution_count": 132,
   "metadata": {},
   "outputs": [],
   "source": [
    "import pandas as pd\n",
    "from keras.models import Sequential\n",
    "from keras.layers import Activation,Dense,LSTM,Flatten\n",
    "from keras.utils import np_utils,normalize\n",
    "from sklearn.model_selection import train_test_split\n",
    "import numpy as np"
   ]
  },
  {
   "cell_type": "code",
   "execution_count": 120,
   "metadata": {},
   "outputs": [],
   "source": [
    "data=pd.read_csv(\"bank_data.txt\",header=None)\n",
    "\n",
    "\n",
    "# In[14]:\n",
    "\n",
    "\n",
    "data=data.values\n",
    "\n",
    "\n",
    "# In[15]:\n",
    "\n",
    "\n",
    "X_train, X_test, y_train, y_test = train_test_split(data[:,:20],data[:,20], test_size=0.2)\n",
    "\n",
    "\n",
    "# In[18]:\n",
    "\n",
    "from sklearn.preprocessing import MinMaxScaler\n",
    "scaler = MinMaxScaler(feature_range=(0, 1))\n",
    "scaler = scaler.fit(data[:,:20])\n",
    "X_train = scaler.transform(X_train)\n",
    "X_test = scaler.transform(X_test)\n",
    "\n",
    "\n",
    "\n",
    "# In[19]:\n",
    "\n",
    "\n",
    "y_train=np_utils.to_categorical(y_train)"
   ]
  },
  {
   "cell_type": "code",
   "execution_count": 121,
   "metadata": {},
   "outputs": [],
   "source": [
    "X_train=np.reshape(X_train,(X_train.shape[0],1,20))"
   ]
  },
  {
   "cell_type": "code",
   "execution_count": 218,
   "metadata": {},
   "outputs": [
    {
     "name": "stdout",
     "output_type": "stream",
     "text": [
      "_________________________________________________________________\n",
      "Layer (type)                 Output Shape              Param #   \n",
      "=================================================================\n",
      "lstm_72 (LSTM)               (None, 1, 100)            48400     \n",
      "_________________________________________________________________\n",
      "lstm_73 (LSTM)               (None, 1, 75)             52800     \n",
      "_________________________________________________________________\n",
      "lstm_74 (LSTM)               (None, 50)                25200     \n",
      "_________________________________________________________________\n",
      "dense_23 (Dense)             (None, 2)                 102       \n",
      "=================================================================\n",
      "Total params: 126,502\n",
      "Trainable params: 126,502\n",
      "Non-trainable params: 0\n",
      "_________________________________________________________________\n"
     ]
    }
   ],
   "source": [
    "model=Sequential()\n",
    "model.add(LSTM(100,return_sequences=True,input_shape=(1,20,)))\n",
    "model.add(LSTM(75,return_sequences=True))\n",
    "model.add(LSTM(50))\n",
    "model.add(Dense(2,activation=\"sigmoid\"))\n",
    "model.summary()"
   ]
  },
  {
   "cell_type": "code",
   "execution_count": 219,
   "metadata": {},
   "outputs": [],
   "source": [
    "model.compile(optimizer='adam', loss='categorical_crossentropy', metrics=['accuracy'])"
   ]
  },
  {
   "cell_type": "code",
   "execution_count": 225,
   "metadata": {},
   "outputs": [
    {
     "name": "stdout",
     "output_type": "stream",
     "text": [
      "Epoch 1/10\n",
      "32950/32950 [==============================] - 3s 99us/step - loss: 0.1918 - acc: 0.9116\n",
      "Epoch 2/10\n",
      "32950/32950 [==============================] - 3s 103us/step - loss: 0.1900 - acc: 0.9120\n",
      "Epoch 3/10\n",
      "32950/32950 [==============================] - 3s 104us/step - loss: 0.1913 - acc: 0.9120\n",
      "Epoch 4/10\n",
      "32950/32950 [==============================] - 3s 103us/step - loss: 0.1900 - acc: 0.9114\n",
      "Epoch 5/10\n",
      "32950/32950 [==============================] - 3s 103us/step - loss: 0.1892 - acc: 0.9127\n",
      "Epoch 6/10\n",
      "32950/32950 [==============================] - 3s 103us/step - loss: 0.1897 - acc: 0.9119\n",
      "Epoch 7/10\n",
      "32950/32950 [==============================] - 4s 108us/step - loss: 0.1882 - acc: 0.9126\n",
      "Epoch 8/10\n",
      "32950/32950 [==============================] - 3s 104us/step - loss: 0.1885 - acc: 0.9123\n",
      "Epoch 9/10\n",
      "32950/32950 [==============================] - 3s 103us/step - loss: 0.1871 - acc: 0.9131\n",
      "Epoch 10/10\n",
      "32950/32950 [==============================] - 3s 103us/step - loss: 0.1861 - acc: 0.9127\n"
     ]
    },
    {
     "data": {
      "text/plain": [
       "<keras.callbacks.History at 0x7f923e70fb90>"
      ]
     },
     "execution_count": 225,
     "metadata": {},
     "output_type": "execute_result"
    }
   ],
   "source": [
    "model.fit(X_train,y_train,epochs=10,batch_size=64,class_weight=\"balanced\")"
   ]
  },
  {
   "cell_type": "code",
   "execution_count": 226,
   "metadata": {},
   "outputs": [],
   "source": [
    "Y_=np_utils.to_categorical(y_test)\n",
    "X_test=np.reshape(X_test,(X_test.shape[0],1,20))"
   ]
  },
  {
   "cell_type": "code",
   "execution_count": 227,
   "metadata": {},
   "outputs": [
    {
     "name": "stdout",
     "output_type": "stream",
     "text": [
      "8238/8238 [==============================] - 1s 65us/step\n"
     ]
    },
    {
     "data": {
      "text/plain": [
       "[0.18320677164262811, 0.91381403253216797]"
      ]
     },
     "execution_count": 227,
     "metadata": {},
     "output_type": "execute_result"
    }
   ],
   "source": [
    "model.evaluate(X_test,Y_)"
   ]
  },
  {
   "cell_type": "code",
   "execution_count": 228,
   "metadata": {},
   "outputs": [],
   "source": [
    "y_pred=model.predict_classes(X_test)\n"
   ]
  },
  {
   "cell_type": "code",
   "execution_count": 229,
   "metadata": {},
   "outputs": [
    {
     "name": "stdout",
     "output_type": "stream",
     "text": [
      "              precision    recall  f1-score   support\n",
      "\n",
      "           0       0.96      0.95      0.95      7431\n",
      "           1       0.55      0.61      0.58       807\n",
      "\n",
      "   micro avg       0.91      0.91      0.91      8238\n",
      "   macro avg       0.76      0.78      0.77      8238\n",
      "weighted avg       0.92      0.91      0.92      8238\n",
      "\n"
     ]
    }
   ],
   "source": [
    "from sklearn.metrics import classification_report\n",
    "print classification_report(y_pred,y_test)"
   ]
  },
  {
   "cell_type": "code",
   "execution_count": null,
   "metadata": {},
   "outputs": [],
   "source": []
  },
  {
   "cell_type": "code",
   "execution_count": null,
   "metadata": {},
   "outputs": [],
   "source": []
  },
  {
   "cell_type": "code",
   "execution_count": null,
   "metadata": {},
   "outputs": [],
   "source": []
  },
  {
   "cell_type": "code",
   "execution_count": null,
   "metadata": {},
   "outputs": [],
   "source": []
  }
 ],
 "metadata": {
  "kernelspec": {
   "display_name": "Python 2",
   "language": "python",
   "name": "python2"
  },
  "language_info": {
   "codemirror_mode": {
    "name": "ipython",
    "version": 2
   },
   "file_extension": ".py",
   "mimetype": "text/x-python",
   "name": "python",
   "nbconvert_exporter": "python",
   "pygments_lexer": "ipython2",
   "version": "2.7.15rc1"
  }
 },
 "nbformat": 4,
 "nbformat_minor": 2
}
